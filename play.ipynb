{
 "cells": [
  {
   "cell_type": "code",
   "execution_count": 29,
   "metadata": {},
   "outputs": [
    {
     "name": "stdout",
     "output_type": "stream",
     "text": [
      "Player 1's hand:\n",
      "[0|6]\n",
      "[2|5]\n",
      "[1|4]\n",
      "[1|2]\n",
      "[5|5]\n",
      "Player 2's hand:\n",
      "[1|3]\n",
      "[0|0]\n",
      "[1|5]\n",
      "[0|1]\n",
      "[5|6]\n"
     ]
    }
   ],
   "source": [
    "from Domino import *\n",
    "boneyard = BoneYard()\n",
    "boneyard.shuffle()\n",
    "board = Board()\n",
    "\n",
    "p1 = DominoPlayer(boneyard, board)\n",
    "p2 = DominoPlayer(boneyard, board)\n",
    "for i in range(5):\n",
    "    p1.draw()\n",
    "    p2.draw()\n",
    "\n",
    "print(\"Player 1's hand:\")\n",
    "p1.show()\n",
    "print(\"Player 2's hand:\")\n",
    "p2.show()"
   ]
  },
  {
   "cell_type": "code",
   "execution_count": 24,
   "metadata": {},
   "outputs": [
    {
     "name": "stdout",
     "output_type": "stream",
     "text": [
      "Valid play\n"
     ]
    }
   ],
   "source": [
    "p1.play(0,0)"
   ]
  }
 ],
 "metadata": {
  "kernelspec": {
   "display_name": "Python 3",
   "language": "python",
   "name": "python3"
  },
  "language_info": {
   "codemirror_mode": {
    "name": "ipython",
    "version": 3
   },
   "file_extension": ".py",
   "mimetype": "text/x-python",
   "name": "python",
   "nbconvert_exporter": "python",
   "pygments_lexer": "ipython3",
   "version": "3.9.12"
  },
  "orig_nbformat": 4
 },
 "nbformat": 4,
 "nbformat_minor": 2
}
